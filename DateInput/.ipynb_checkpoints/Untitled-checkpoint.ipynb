{
 "cells": [
  {
   "cell_type": "code",
   "execution_count": null,
   "metadata": {},
   "outputs": [],
   "source": [
    "import openpyxl #한 건의 대화를 담는 객체입니다. \n",
    "\n",
    "class Conversation:\n",
    "    #질문, 응답 두 변수로 구성됩니다. \n",
    "    def __init__(self, contentName, contentType, question, answer):\n",
    "        self.contentName = contentName\n",
    "        self.contentType = contentType\n",
    "        self.question = question\n",
    "        self.answer = answer \n",
    "    def __str__(self):\n",
    "        return \"질문: \" + self.question + \"\\n답변: \" + self.answer + \"\\n\"\n",
    "\n",
    "#영어 대화 데이터가 담긴 액셀을 엽니다. \n",
    "wb = openpyxl.load_workbook(\"input.csv\")\n",
    "ws = "
   ]
  }
 ],
 "metadata": {
  "kernelspec": {
   "display_name": "Python 3",
   "language": "python",
   "name": "python3"
  },
  "language_info": {
   "codemirror_mode": {
    "name": "ipython",
    "version": 3
   },
   "file_extension": ".py",
   "mimetype": "text/x-python",
   "name": "python",
   "nbconvert_exporter": "python",
   "pygments_lexer": "ipython3",
   "version": "3.7.4"
  }
 },
 "nbformat": 4,
 "nbformat_minor": 2
}
